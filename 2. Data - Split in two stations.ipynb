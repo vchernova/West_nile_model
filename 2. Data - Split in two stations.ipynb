{
 "cells": [
  {
   "cell_type": "code",
   "execution_count": 1,
   "metadata": {},
   "outputs": [],
   "source": [
    "import pandas as pd\n",
    "import numpy as np"
   ]
  },
  {
   "cell_type": "code",
   "execution_count": 2,
   "metadata": {},
   "outputs": [],
   "source": [
    "train_data   = pd.read_csv('./data/train_data_new.csv')\n",
    "test_data    = pd.read_csv('./data/test_data_new.csv')"
   ]
  },
  {
   "cell_type": "code",
   "execution_count": 8,
   "metadata": {},
   "outputs": [
    {
     "name": "stdout",
     "output_type": "stream",
     "text": [
      "(3298, 13)\n",
      "(7208, 13)\n"
     ]
    }
   ],
   "source": [
    "train_station1 = train_data[train_data['Station']==1]\n",
    "print(train_station1.shape)\n",
    "train_station2 = train_data[train_data['Station']==2]\n",
    "print(train_station2.shape)"
   ]
  },
  {
   "cell_type": "code",
   "execution_count": 9,
   "metadata": {},
   "outputs": [
    {
     "name": "stdout",
     "output_type": "stream",
     "text": [
      "(35401, 12)\n",
      "(80892, 12)\n"
     ]
    }
   ],
   "source": [
    "test_station1 = test_data[test_data['Station']==1]\n",
    "print(test_station1.shape)\n",
    "test_station2 = test_data[test_data['Station']==2]\n",
    "print(test_station2.shape)"
   ]
  },
  {
   "cell_type": "code",
   "execution_count": 10,
   "metadata": {},
   "outputs": [],
   "source": [
    "test_station1.to_csv('./data/test_station1.csv', index = False)\n",
    "test_station2.to_csv('./data/test_Station2.csv', index = False)\n",
    "train_station1.to_csv('./data/train_station1.csv', index = False)\n",
    "train_station2.to_csv('./data/train_Station2.csv', index = False)"
   ]
  }
 ],
 "metadata": {
  "kernelspec": {
   "display_name": "Python [conda env:dsi]",
   "language": "python",
   "name": "conda-env-dsi-py"
  },
  "language_info": {
   "codemirror_mode": {
    "name": "ipython",
    "version": 3
   },
   "file_extension": ".py",
   "mimetype": "text/x-python",
   "name": "python",
   "nbconvert_exporter": "python",
   "pygments_lexer": "ipython3",
   "version": "3.6.5"
  }
 },
 "nbformat": 4,
 "nbformat_minor": 2
}
