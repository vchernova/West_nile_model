{
 "cells": [
  {
   "cell_type": "code",
   "execution_count": 1,
   "metadata": {},
   "outputs": [],
   "source": [
    "import pandas as pd\n",
    "import numpy as np"
   ]
  },
  {
   "cell_type": "code",
   "execution_count": 2,
   "metadata": {},
   "outputs": [],
   "source": [
    "train_data_station1   = pd.read_csv('./train_station1.csv')\n",
    "train_data_station2   = pd.read_csv('./train_Station2.csv')\n",
    "\n",
    "test_data_station1   = pd.read_csv('./test_station1.csv')\n",
    "test_data_station2   = pd.read_csv('./test_Station2.csv')\n",
    "\n",
    "weather_data = pd.read_csv('./assets/weather.csv')"
   ]
  },
  {
   "cell_type": "code",
   "execution_count": 3,
   "metadata": {},
   "outputs": [],
   "source": [
    "#maybe impute instead?\n",
    "weather_data.replace('M', 0, inplace=True)\n",
    "weather_data.replace('T', 0, inplace=True)\n",
    "weather_data.replace(' T', 0, inplace=True)\n",
    "weather_data.replace('  T', 0, inplace=True)"
   ]
  },
  {
   "cell_type": "code",
   "execution_count": 4,
   "metadata": {},
   "outputs": [],
   "source": [
    "weather_data.drop(columns=['Water1', 'SnowFall', 'Depth'], axis=1, inplace=True)"
   ]
  },
  {
   "cell_type": "code",
   "execution_count": 6,
   "metadata": {},
   "outputs": [
    {
     "data": {
      "text/plain": [
       "(2944, 19)"
      ]
     },
     "execution_count": 6,
     "metadata": {},
     "output_type": "execute_result"
    }
   ],
   "source": [
    "weather_data.shape"
   ]
  },
  {
   "cell_type": "code",
   "execution_count": 7,
   "metadata": {
    "scrolled": true
   },
   "outputs": [
    {
     "data": {
      "text/plain": [
       "Index(['Station', 'Date', 'Tmax', 'Tmin', 'Tavg', 'Depart', 'DewPoint',\n",
       "       'WetBulb', 'Heat', 'Cool', 'Sunrise', 'Sunset', 'CodeSum',\n",
       "       'PrecipTotal', 'StnPressure', 'SeaLevel', 'ResultSpeed', 'ResultDir',\n",
       "       'AvgSpeed'],\n",
       "      dtype='object')"
      ]
     },
     "execution_count": 7,
     "metadata": {},
     "output_type": "execute_result"
    }
   ],
   "source": [
    "weather_data.columns"
   ]
  },
  {
   "cell_type": "code",
   "execution_count": 8,
   "metadata": {},
   "outputs": [],
   "source": [
    "weather_data.drop(columns=['Sunrise','Sunset'], axis=1, inplace=True)\n",
    "#weather_data = pd.get_dummies(weather_data, columns=['CodeSum'])\n",
    "\n",
    "weather_data['SeaLevel'] = weather_data['SeaLevel'].astype(float)\n",
    "weather_data['AvgSpeed'] = weather_data['AvgSpeed'].astype(float)\n",
    "weather_data['PrecipTotal'] = weather_data['PrecipTotal'].astype(float)\n",
    "weather_data['StnPressure'] = weather_data['StnPressure'].astype(float)\n",
    "weather_data['WetBulb'] = weather_data['WetBulb'].astype(float)\n",
    "weather_data['Depart'] = weather_data['Depart'].astype(float)"
   ]
  },
  {
   "cell_type": "code",
   "execution_count": 9,
   "metadata": {},
   "outputs": [
    {
     "data": {
      "text/plain": [
       "None    2520\n",
       "RA       296\n",
       "BR       110\n",
       "TS        10\n",
       "DZ         8\n",
       "Name: CodeSum, dtype: int64"
      ]
     },
     "execution_count": 9,
     "metadata": {},
     "output_type": "execute_result"
    }
   ],
   "source": [
    "# we only care about Shower(SH), drizzle(DZ), rain(RA)\n",
    "# Thunderstorm(TS), Mist(BR) = Each of these will reduce the number of mosquitoes\n",
    "patterns = ['SH', 'DZ', 'RA', 'TS', 'BR']\n",
    "\n",
    "# iterate through all the CodeSum to find the columns with the patterns list\n",
    "weather_data['CodeSum'] = weather_data['CodeSum'].apply(lambda x: [t for t in x.split('0') \n",
    "                                                                   if t in patterns])\n",
    "# converts everything from the lists that were created in the previous code into strings\n",
    "weather_data['CodeSum'] = weather_data['CodeSum'].apply(lambda x: \n",
    "                                                x if not isinstance(x, list) else x[0] if len(x) else 'None')\n",
    "\n",
    "weather_data.CodeSum.value_counts()"
   ]
  },
  {
   "cell_type": "code",
   "execution_count": 10,
   "metadata": {},
   "outputs": [],
   "source": [
    "new =[]\n",
    "for i in weather_data['Tavg']:\n",
    "    new.append(int(i))\n",
    "weather_data['Tavg'] = new\n",
    "\n",
    "new =[]\n",
    "for i in weather_data['Heat']:\n",
    "    new.append(int(i))\n",
    "weather_data['Heat'] = new\n",
    "\n",
    "new =[]\n",
    "for i in weather_data['Cool']:\n",
    "    new.append(int(i))\n",
    "weather_data['Cool'] = new"
   ]
  },
  {
   "cell_type": "code",
   "execution_count": 12,
   "metadata": {
    "scrolled": false
   },
   "outputs": [
    {
     "data": {
      "text/html": [
       "<div>\n",
       "<style scoped>\n",
       "    .dataframe tbody tr th:only-of-type {\n",
       "        vertical-align: middle;\n",
       "    }\n",
       "\n",
       "    .dataframe tbody tr th {\n",
       "        vertical-align: top;\n",
       "    }\n",
       "\n",
       "    .dataframe thead th {\n",
       "        text-align: right;\n",
       "    }\n",
       "</style>\n",
       "<table border=\"1\" class=\"dataframe\">\n",
       "  <thead>\n",
       "    <tr style=\"text-align: right;\">\n",
       "      <th></th>\n",
       "      <th>Station</th>\n",
       "      <th>Date</th>\n",
       "      <th>Tmax</th>\n",
       "      <th>Tmin</th>\n",
       "      <th>Tavg</th>\n",
       "      <th>Depart</th>\n",
       "      <th>DewPoint</th>\n",
       "      <th>WetBulb</th>\n",
       "      <th>Heat</th>\n",
       "      <th>Cool</th>\n",
       "      <th>CodeSum</th>\n",
       "      <th>PrecipTotal</th>\n",
       "      <th>StnPressure</th>\n",
       "      <th>SeaLevel</th>\n",
       "      <th>ResultSpeed</th>\n",
       "      <th>ResultDir</th>\n",
       "      <th>AvgSpeed</th>\n",
       "    </tr>\n",
       "  </thead>\n",
       "  <tbody>\n",
       "    <tr>\n",
       "      <th>0</th>\n",
       "      <td>1</td>\n",
       "      <td>2007-05-01</td>\n",
       "      <td>83</td>\n",
       "      <td>50</td>\n",
       "      <td>67</td>\n",
       "      <td>14.0</td>\n",
       "      <td>51</td>\n",
       "      <td>56.0</td>\n",
       "      <td>0</td>\n",
       "      <td>2</td>\n",
       "      <td>None</td>\n",
       "      <td>0.0</td>\n",
       "      <td>29.10</td>\n",
       "      <td>29.82</td>\n",
       "      <td>1.7</td>\n",
       "      <td>27</td>\n",
       "      <td>9.2</td>\n",
       "    </tr>\n",
       "    <tr>\n",
       "      <th>1</th>\n",
       "      <td>2</td>\n",
       "      <td>2007-05-01</td>\n",
       "      <td>84</td>\n",
       "      <td>52</td>\n",
       "      <td>68</td>\n",
       "      <td>0.0</td>\n",
       "      <td>51</td>\n",
       "      <td>57.0</td>\n",
       "      <td>0</td>\n",
       "      <td>3</td>\n",
       "      <td>None</td>\n",
       "      <td>0.0</td>\n",
       "      <td>29.18</td>\n",
       "      <td>29.82</td>\n",
       "      <td>2.7</td>\n",
       "      <td>25</td>\n",
       "      <td>9.6</td>\n",
       "    </tr>\n",
       "    <tr>\n",
       "      <th>2</th>\n",
       "      <td>1</td>\n",
       "      <td>2007-05-02</td>\n",
       "      <td>59</td>\n",
       "      <td>42</td>\n",
       "      <td>51</td>\n",
       "      <td>-3.0</td>\n",
       "      <td>42</td>\n",
       "      <td>47.0</td>\n",
       "      <td>14</td>\n",
       "      <td>0</td>\n",
       "      <td>BR</td>\n",
       "      <td>0.0</td>\n",
       "      <td>29.38</td>\n",
       "      <td>30.09</td>\n",
       "      <td>13.0</td>\n",
       "      <td>4</td>\n",
       "      <td>13.4</td>\n",
       "    </tr>\n",
       "    <tr>\n",
       "      <th>3</th>\n",
       "      <td>2</td>\n",
       "      <td>2007-05-02</td>\n",
       "      <td>60</td>\n",
       "      <td>43</td>\n",
       "      <td>52</td>\n",
       "      <td>0.0</td>\n",
       "      <td>42</td>\n",
       "      <td>47.0</td>\n",
       "      <td>13</td>\n",
       "      <td>0</td>\n",
       "      <td>None</td>\n",
       "      <td>0.0</td>\n",
       "      <td>29.44</td>\n",
       "      <td>30.08</td>\n",
       "      <td>13.3</td>\n",
       "      <td>2</td>\n",
       "      <td>13.4</td>\n",
       "    </tr>\n",
       "    <tr>\n",
       "      <th>4</th>\n",
       "      <td>1</td>\n",
       "      <td>2007-05-03</td>\n",
       "      <td>66</td>\n",
       "      <td>46</td>\n",
       "      <td>56</td>\n",
       "      <td>2.0</td>\n",
       "      <td>40</td>\n",
       "      <td>48.0</td>\n",
       "      <td>9</td>\n",
       "      <td>0</td>\n",
       "      <td>None</td>\n",
       "      <td>0.0</td>\n",
       "      <td>29.39</td>\n",
       "      <td>30.12</td>\n",
       "      <td>11.7</td>\n",
       "      <td>7</td>\n",
       "      <td>11.9</td>\n",
       "    </tr>\n",
       "  </tbody>\n",
       "</table>\n",
       "</div>"
      ],
      "text/plain": [
       "   Station        Date  Tmax  Tmin  Tavg  Depart  DewPoint  WetBulb  Heat  \\\n",
       "0        1  2007-05-01    83    50    67    14.0        51     56.0     0   \n",
       "1        2  2007-05-01    84    52    68     0.0        51     57.0     0   \n",
       "2        1  2007-05-02    59    42    51    -3.0        42     47.0    14   \n",
       "3        2  2007-05-02    60    43    52     0.0        42     47.0    13   \n",
       "4        1  2007-05-03    66    46    56     2.0        40     48.0     9   \n",
       "\n",
       "   Cool CodeSum  PrecipTotal  StnPressure  SeaLevel  ResultSpeed  ResultDir  \\\n",
       "0     2    None          0.0        29.10     29.82          1.7         27   \n",
       "1     3    None          0.0        29.18     29.82          2.7         25   \n",
       "2     0      BR          0.0        29.38     30.09         13.0          4   \n",
       "3     0    None          0.0        29.44     30.08         13.3          2   \n",
       "4     0    None          0.0        29.39     30.12         11.7          7   \n",
       "\n",
       "   AvgSpeed  \n",
       "0       9.2  \n",
       "1       9.6  \n",
       "2      13.4  \n",
       "3      13.4  \n",
       "4      11.9  "
      ]
     },
     "execution_count": 12,
     "metadata": {},
     "output_type": "execute_result"
    }
   ],
   "source": [
    "weather_data.head()"
   ]
  },
  {
   "cell_type": "code",
   "execution_count": 13,
   "metadata": {
    "scrolled": true
   },
   "outputs": [
    {
     "name": "stdout",
     "output_type": "stream",
     "text": [
      "(1472, 17)\n",
      "(1472, 17)\n"
     ]
    }
   ],
   "source": [
    "station1 = weather_data[weather_data['Station']==1]\n",
    "print(station1.shape)\n",
    "station2 = weather_data[weather_data['Station']==2]\n",
    "print(station2.shape)"
   ]
  },
  {
   "cell_type": "code",
   "execution_count": 14,
   "metadata": {},
   "outputs": [],
   "source": [
    "train_data_station1 = train_data_station1.merge(station1,on=\"Date\")\n",
    "train_data_station2 = train_data_station2.merge(station2,on=\"Date\")\n",
    "test_data_station1 = test_data_station1.merge(station1,on=\"Date\")\n",
    "test_data_station2 = test_data_station2.merge(station2,on=\"Date\")"
   ]
  },
  {
   "cell_type": "code",
   "execution_count": 16,
   "metadata": {},
   "outputs": [],
   "source": [
    "train_data = pd.concat([train_data_station1, train_data_station2])\n",
    "test_data = pd.concat([test_data_station1, test_data_station2])"
   ]
  },
  {
   "cell_type": "code",
   "execution_count": 17,
   "metadata": {},
   "outputs": [
    {
     "data": {
      "text/plain": [
       "((10506, 29), (116293, 28))"
      ]
     },
     "execution_count": 17,
     "metadata": {},
     "output_type": "execute_result"
    }
   ],
   "source": [
    "train_data.shape, test_data.shape"
   ]
  },
  {
   "cell_type": "code",
   "execution_count": 18,
   "metadata": {},
   "outputs": [],
   "source": [
    "train_data.to_csv('train_final.csv', index = False)\n",
    "test_data.to_csv('test_final.csv', index = False)"
   ]
  },
  {
   "cell_type": "code",
   "execution_count": null,
   "metadata": {},
   "outputs": [],
   "source": []
  }
 ],
 "metadata": {
  "kernelspec": {
   "display_name": "Python [conda env:dsi]",
   "language": "python",
   "name": "conda-env-dsi-py"
  },
  "language_info": {
   "codemirror_mode": {
    "name": "ipython",
    "version": 3
   },
   "file_extension": ".py",
   "mimetype": "text/x-python",
   "name": "python",
   "nbconvert_exporter": "python",
   "pygments_lexer": "ipython3",
   "version": "3.6.5"
  }
 },
 "nbformat": 4,
 "nbformat_minor": 2
}
